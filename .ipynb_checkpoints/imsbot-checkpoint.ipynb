{
 "cells": [
  {
   "cell_type": "code",
   "execution_count": 1,
   "metadata": {},
   "outputs": [
    {
     "name": "stdout",
     "output_type": "stream",
     "text": [
      "Python 3.7.5\n"
     ]
    }
   ],
   "source": [
    "# !python --version"
   ]
  },
  {
   "cell_type": "code",
   "execution_count": 2,
   "metadata": {},
   "outputs": [
    {
     "data": {
      "text/plain": [
       "True"
      ]
     },
     "execution_count": 2,
     "metadata": {},
     "output_type": "execute_result"
    }
   ],
   "source": [
    "import requests as r\n",
    "import time\n",
    "from bs4 import BeautifulSoup\n",
    "import smtplib\n",
    "from dotenv import load_dotenv\n",
    "load_dotenv(verbose=True)"
   ]
  },
  {
   "cell_type": "code",
   "execution_count": 3,
   "metadata": {},
   "outputs": [],
   "source": [
    "import os\n",
    "EMAIL_USER = os.getenv(\"EMAIL_USER\")\n",
    "EMAIL_PASS = os.getenv(\"EMAIL_PASS\")\n",
    "# EMAIL_USER,EMAIL_PASS"
   ]
  },
  {
   "cell_type": "code",
   "execution_count": 4,
   "metadata": {},
   "outputs": [],
   "source": [
    "def sendMail(newd,origd):\n",
    "    # creates SMTP session \n",
    "    s = smtplib.SMTP('smtp.sendgrid.net', 587) \n",
    "    \n",
    "    # start TLS for security \n",
    "    s.starttls() \n",
    "\n",
    "    # Authentication \n",
    "    s.login(EMAIL_USER, EMAIL_PASS) \n",
    "\n",
    "    # message to be sent\n",
    "    msg = str(\"From: NSIT-IMS-BOT\\nSubject:[BOT]IMS NOTIFICATION UPDATE \\n\\nNew:\" + newd + \"\\n\"+ \"Old:\" + origd)\n",
    "    print(type(msg))\n",
    "    #msg = \"Message_you_need_to_send\"\n",
    "    #print(msg)\n",
    "    #print(type(msg))\n",
    "    \n",
    "    # sending the mail \n",
    "    s.sendmail(\"MoneyGust101@gmail.com\", \"abhishekr700@gmail.com\", msg)\n",
    "    s.sendmail(\"MoneyGust101@gmail.com\", \"aakashgoryan@gmail.com\", msg)\n",
    "\n",
    "    # terminating the session \n",
    "    s.quit() "
   ]
  },
  {
   "cell_type": "code",
   "execution_count": 5,
   "metadata": {},
   "outputs": [],
   "source": [
    "def notify(newd,origd):\n",
    "    print(\"IMS NOTIFICATION PAGE CHANGED\")\n",
    "    print(\"Add:\",newd)\n",
    "    sendMail(newd,origd)"
   ]
  },
  {
   "cell_type": "code",
   "execution_count": 6,
   "metadata": {},
   "outputs": [
    {
     "name": "stdout",
     "output_type": "stream",
     "text": [
      "Original: REVISED M-TECH PRACTICAL EXAM. DATE SHEET, NOV. 2019: DEPARTMENT OF MECHANICAL ENGG., NSUT\n"
     ]
    }
   ],
   "source": [
    "url = \"https://www.imsnsit.org/imsnsit/notifications.php\"\n",
    "# url = \"http://localhost:3000/\"\n",
    "data = r.get(url)\n",
    "plain = data.text\n",
    "obj = BeautifulSoup(plain,\"html.parser\")\n",
    "t = obj.find_all(\"tr\")[4].find_all(\"td\")[1].find_all(\"font\")[0].text\n",
    "# t = obj.find_all(\"tr\")[4]\n",
    "origData = t\n",
    "print(\"Original:\",origData)"
   ]
  },
  {
   "cell_type": "code",
   "execution_count": null,
   "metadata": {},
   "outputs": [
    {
     "name": "stdout",
     "output_type": "stream",
     "text": [
      "Loop Run  Making Request Loop Run  Making Request Loop Run  Making Request Loop Run  Making Request Loop Run  Making Request Loop Run  Making Request Loop Run  Making Request Loop Run  Making Request Loop Run  Making Request Loop Run  Making Request Loop Run  Making Request Loop Run  Making Request Loop Run  Making Request Loop Run  Making Request Loop Run  Making Request Loop Run  Making Request Loop Run  Making Request Loop Run  Making Request Loop Run  Making Request Loop Run  Making Request Loop Run  Making Request Loop Run  Making Request Loop Run  Making Request Loop Run  Making Request Loop Run  Making Request Loop Run  Making Request Loop Run  Making Request Loop Run  Making Request Loop Run  Making Request Loop Run  Making Request Loop Run  Making Request Loop Run  Making Request Loop Run  Making Request Loop Run  Making Request Loop Run  Making Request Loop Run  Making Request Loop Run  Making Request Loop Run  Making Request Loop Run  Making Request Loop Run  Making Request Loop Run  Making Request Loop Run  Making Request Loop Run  Making Request Loop Run  Making Request Loop Run  Making Request Loop Run  Making Request Loop Run  Making Request Loop Run  Making Request Loop Run  Making Request Loop Run  Making Request Loop Run  Making Request Loop Run  Making Request Loop Run  Making Request Loop Run  Making Request Loop Run  Making Request Loop Run  Making Request Loop Run  Making Request Loop Run  Making Request Loop Run  Making Request Loop Run  Making Request Loop Run  Making Request Loop Run  Making Request Loop Run  Making Request Loop Run  Making Request Loop Run  Making Request Loop Run  Making Request Loop Run  Making Request Loop Run  Making Request Loop Run  Making Request Loop Run  Making Request Loop Run  Making Request Loop Run  Making Request Loop Run  Making Request Loop Run  Making Request Loop Run  Making Request Loop Run  Making Request Loop Run  Making Request Loop Run  Making Request Loop Run  Making Request Loop Run  Making Request Loop Run  Making Request Loop Run  Making Request Loop Run  Making Request Loop Run  Making Request Loop Run  Making Request Loop Run  Making Request Loop Run  Making Request Loop Run  Making Request Loop Run  Making Request Loop Run  Making Request Loop Run  Making Request Loop Run  Making Request Loop Run  Making Request Loop Run  Making Request Loop Run  Making Request Loop Run  Making Request Loop Run  Making Request Loop Run  Making Request Loop Run  Making Request Loop Run  Making Request Loop Run  Making Request Loop Run  Making Request Loop Run  Making Request Loop Run  Making Request Loop Run  Making Request Loop Run  Making Request Loop Run  Making Request Loop Run  Making Request Loop Run  Making Request Loop Run  Making Request Loop Run  Making Request Loop Run  Making Request Loop Run  Making Request Loop Run  Making Request Loop Run  Making Request Loop Run  Making Request Loop Run  Making Request Loop Run  Making Request Loop Run  Making Request Loop Run  Making Request Loop Run  Making Request Loop Run  Making Request Loop Run  Making Request Loop Run  Making Request Loop Run  Making Request Loop Run  Making Request Loop Run  Making Request Loop Run  Making Request Loop Run  Making Request Loop Run  Making Request Loop Run  Making Request Loop Run  Making Request Loop Run  Making Request Loop Run  Making Request Loop Run  Making Request Loop Run  Making Request Loop Run  Making Request Loop Run  Making Request Loop Run  Making Request Loop Run  Making Request Loop Run  Making Request Loop Run  Making Request Loop Run  Making Request Loop Run  Making Request Loop Run  Making Request Loop Run  Making Request Loop Run  Making Request Loop Run  Making Request Loop Run  Making Request Loop Run  Making Request Loop Run  Making Request Loop Run  Making Request Loop Run  Making Request Loop Run  Making Request Loop Run  Making Request Loop Run  Making Request Loop Run  Making Request Loop Run  Making Request Loop Run  Making Request Loop Run  Making Request Loop Run  Making Request Loop Run  Making Request Loop Run  Making Request Loop Run  Making Request Loop Run  Making Request Loop Run  Making Request Loop Run  Making Request Loop Run  Making Request Loop Run  Making Request Loop Run  Making Request Loop Run  Making Request Loop Run  Making Request Loop Run  Making Request Loop Run  Making Request Loop Run  Making Request Loop Run  Making Request Loop Run  Making Request Loop Run  Making Request Loop Run  Making Request Loop Run  Making Request Loop Run  Making Request Loop Run  Making Request Loop Run  Making Request Loop Run  Making Request Loop Run  Making Request Loop Run  Making Request Loop Run  Making Request Loop Run  Making Request Loop Run  Making Request Loop Run  Making Request Loop Run  Making Request Loop Run  Making Request Loop Run  Making Request Loop Run  Making Request Loop Run  Making Request Loop Run  Making Request Loop Run  Making Request Loop Run  Making Request Loop Run  Making Request Loop Run  Making Request Loop Run  Making Request Loop Run  Making Request Loop Run  Making Request Loop Run  Making Request Loop Run  Making Request Loop Run  Making Request Loop Run  Making Request Loop Run  Making Request Loop Run  Making Request Loop Run  Making Request Loop Run  Making Request Loop Run  Making Request Loop Run  Making Request Loop Run  Making Request Loop Run  Making Request Loop Run  Making Request Loop Run  Making Request Loop Run  Making Request Loop Run  Making Request Loop Run  Making Request Loop Run  Making Request Loop Run  Making Request Loop Run  Making Request Loop Run  Making Request Loop Run  Making Request Loop Run  Making Request Loop Run  Making Request Loop Run  Making Request Loop Run  Making Request Loop Run  Making Request Loop Run  Making Request Loop Run  Making Request Loop Run  Making Request Loop Run  Making Request Loop Run  Making Request Loop Run  Making Request Loop Run  Making Request Loop Run  Making Request Loop Run  Making Request Loop Run  Making Request Loop Run  Making Request Loop Run  Making Request Loop Run  Making Request Loop Run  Making Request Loop Run  Making Request Loop Run  Making Request Loop Run  Making Request Loop Run  Making Request Loop Run  Making Request Loop Run  Making Request Loop Run  Making Request Loop Run  Making Request Loop Run  Making Request Loop Run  Making Request Loop Run  Making Request Loop Run  Making Request Loop Run  Making Request Loop Run  Making Request Loop Run  Making Request Loop Run  Making Request Loop Run  Making Request Loop Run  Making Request Loop Run  Making Request Loop Run  Making Request Loop Run  Making Request Loop Run  Making Request Loop Run  Making Request Loop Run  Making Request Loop Run  Making Request Loop Run  Making Request Loop Run  Making Request Loop Run  Making Request Loop Run  Making Request Loop Run  Making Request Loop Run  Making Request Loop Run  Making Request Loop Run  Making Request Loop Run  Making Request Loop Run  Making Request Loop Run  Making Request Loop Run  Making Request Loop Run  Making Request Loop Run  Making Request Loop Run  Making Request Loop Run  Making Request Loop Run  Making Request Loop Run  Making Request Loop Run  Making Request Loop Run  Making Request Loop Run  Making Request Loop Run  Making Request Loop Run  Making Request Loop Run  Making Request Loop Run  Making Request Loop Run  Making Request Loop Run  Making Request Loop Run  Making Request Loop Run  Making Request Loop Run  Making Request Loop Run  Making Request Loop Run  Making Request Loop Run  Making Request Loop Run  Making Request Loop Run  Making Request Loop Run  Making Request Loop Run  Making Request Loop Run  Making Request Loop Run  Making Request Loop Run  Making Request Loop Run  Making Request Loop Run  Making Request Loop Run  Making Request Loop Run  Making Request Loop Run  Making Request Loop Run  Making Request Loop Run  Making Request Loop Run  Making Request Loop Run  Making Request Loop Run  Making Request Loop Run  Making Request Loop Run  Making Request Loop Run  Making Request Loop Run  Making Request Loop Run  Making Request Loop Run  Making Request Loop Run  Making Request Loop Run  Making Request Loop Run  Making Request "
     ]
    },
    {
     "name": "stdout",
     "output_type": "stream",
     "text": [
      "Loop Run  Making Request Loop Run  Making Request Loop Run  Making Request Loop Run  Making Request Loop Run  Making Request Loop Run  Making Request Loop Run  Making Request Loop Run  Making Request Loop Run  Making Request Loop Run  Making Request Loop Run  Making Request Loop Run  Making Request Loop Run  Making Request Loop Run  Making Request Loop Run  Making Request Loop Run  Making Request Loop Run  Making Request Loop Run  Making Request Loop Run  Making Request Loop Run  Making Request Loop Run  Making Request Loop Run  Making Request Loop Run  Making Request Loop Run  Making Request Loop Run  Making Request Loop Run  Making Request Loop Run  Making Request Loop Run  Making Request Loop Run  Making Request Loop Run  Making Request Loop Run  Making Request Loop Run  Making Request Loop Run  Making Request Loop Run  Making Request Loop Run  Making Request Loop Run  Making Request Loop Run  Making Request Loop Run  Making Request Loop Run  Making Request Loop Run  Making Request Loop Run  Making Request Loop Run  Making Request Loop Run  Making Request Loop Run  Making Request Loop Run  Making Request Loop Run  Making Request Loop Run  Making Request Loop Run  Making Request Loop Run  Making Request Loop Run  Making Request Loop Run  Making Request Loop Run  Making Request Loop Run  Making Request Loop Run  Making Request Loop Run  Making Request Loop Run  Making Request Loop Run  Making Request Loop Run  Making Request Loop Run  Making Request Loop Run  Making Request Loop Run  Making Request Loop Run  Making Request Loop Run  Making Request Loop Run  Making Request Loop Run  Making Request Loop Run  Making Request Loop Run  Making Request Loop Run  Making Request Loop Run  Making Request Loop Run  Making Request Loop Run  Making Request Loop Run  Making Request Loop Run  Making Request Loop Run  Making Request Loop Run  Making Request Loop Run  Making Request Loop Run  Making Request Loop Run  Making Request Loop Run  Making Request Loop Run  Making Request Loop Run  Making Request Loop Run  Making Request Loop Run  Making Request Loop Run  Making Request Loop Run  Making Request Loop Run  Making Request Loop Run  Making Request Loop Run  Making Request Loop Run  Making Request Loop Run  Making Request Loop Run  Making Request Loop Run  "
     ]
    }
   ],
   "source": [
    "changed = False\n",
    "while  not changed:\n",
    "    print(\"Loop Run \")\n",
    "    time.sleep(5)\n",
    "    print(\"Making Request\")\n",
    "    \n",
    "    data = r.get(url)\n",
    "    plain = data.text\n",
    "    obj = BeautifulSoup(plain,\"html.parser\")\n",
    "    newData = obj.find_all(\"tr\")[4].find_all(\"td\")[1].find_all(\"font\")[0].text\n",
    "    data.close()\n",
    "    if newData != origData:\n",
    "        notify(newData,origData)\n",
    "        origData = newData"
   ]
  },
  {
   "cell_type": "code",
   "execution_count": null,
   "metadata": {},
   "outputs": [],
   "source": [
    "# res = sendMail(\"a\",\"b\")\n",
    "# print(res)"
   ]
  }
 ],
 "metadata": {
  "kernelspec": {
   "display_name": "Python 3",
   "language": "python",
   "name": "python3"
  },
  "language_info": {
   "codemirror_mode": {
    "name": "ipython",
    "version": 3
   },
   "file_extension": ".py",
   "mimetype": "text/x-python",
   "name": "python",
   "nbconvert_exporter": "python",
   "pygments_lexer": "ipython3",
   "version": "3.7.5"
  }
 },
 "nbformat": 4,
 "nbformat_minor": 2
}
